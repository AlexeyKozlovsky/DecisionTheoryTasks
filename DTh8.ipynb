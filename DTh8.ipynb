{
 "cells": [
  {
   "cell_type": "markdown",
   "id": "82380521",
   "metadata": {},
   "source": [
    "## Метод эталонов. ТПР 8\n",
    "#### Козловский А.А., гр. 2253"
   ]
  },
  {
   "cell_type": "code",
   "execution_count": 163,
   "id": "b04cc1a1",
   "metadata": {},
   "outputs": [],
   "source": [
    "import numpy as np\n",
    "import pandas as pd\n",
    "import matplotlib.pyplot as plt\n",
    "from matplotlib.patches import Ellipse, Rectangle, Circle"
   ]
  },
  {
   "cell_type": "code",
   "execution_count": 11,
   "id": "79311f29",
   "metadata": {},
   "outputs": [],
   "source": [
    "first_count, second_count = 100, 200\n",
    "first_mean, first_std = (10, 14), (3, 4)\n",
    "second_min, second_max = (30, 56), (46, 84)\n",
    "\n",
    "first = np.array([[np.random.normal(first_mean[0], \n",
    "                                    first_std[0], first_count)],\n",
    "                  [np.random.normal(first_mean[1], \n",
    "                                    first_std[1], first_count)]])\n",
    "\n",
    "second = np.array([[np.random.uniform(second_min[0], \n",
    "                                     second_max[0], second_count)], \n",
    "                   [np.random.uniform(second_min[1], \n",
    "                                     second_max[1], second_count)]])\n",
    "\n"
   ]
  },
  {
   "cell_type": "code",
   "execution_count": 74,
   "id": "8bdd945c",
   "metadata": {},
   "outputs": [
    {
     "data": {
      "text/plain": [
       "<matplotlib.collections.PathCollection at 0x7f4253430940>"
      ]
     },
     "execution_count": 74,
     "metadata": {},
     "output_type": "execute_result"
    },
    {
     "data": {
      "image/png": "[encoded data removed]",
      "text/plain": [
       "<Figure size 432x288 with 1 Axes>"
      ]
     },
     "metadata": {
      "needs_background": "light"
     },
     "output_type": "display_data"
    }
   ],
   "source": [
    "plt.scatter(first[0], first[1], color='orange')\n",
    "plt.scatter(second[0], second[1])"
   ]
  },
  {
   "cell_type": "code",
   "execution_count": 54,
   "id": "1c3a8556",
   "metadata": {},
   "outputs": [],
   "source": [
    "def distance(x, y):\n",
    "    return np.sqrt((x[0] - y[0]) ** 2 + (x[1] - y[1]) ** 2)"
   ]
  },
  {
   "cell_type": "code",
   "execution_count": 78,
   "id": "8a6c9657",
   "metadata": {},
   "outputs": [],
   "source": [
    "# Определение границ \n",
    "rect = (np.min(second[0]), np.min(second[1]), np.max(second[0]), np.max(second[1]))\n",
    "center = (np.mean(first[0]), np.mean(first[1]))\n",
    "radius = np.max([distance(current[0], center) for current in first.T])"
   ]
  },
  {
   "cell_type": "code",
   "execution_count": 79,
   "id": "77d7d43a",
   "metadata": {},
   "outputs": [
    {
     "data": {
      "text/plain": [
       "<matplotlib.patches.Circle at 0x7f42536845e0>"
      ]
     },
     "execution_count": 79,
     "metadata": {},
     "output_type": "execute_result"
    },
    {
     "data": {
      "image/png": "[encoded data removed]",
      "text/plain": [
       "<Figure size 432x288 with 1 Axes>"
      ]
     },
     "metadata": {
      "needs_background": "light"
     },
     "output_type": "display_data"
    }
   ],
   "source": [
    "fig, ax = plt.subplots()\n",
    "\n",
    "ax.scatter(first[0], first[1], color='orange')\n",
    "ax.scatter(second[0], second[1])\n",
    "\n",
    "ax.add_patch(Rectangle(rect[:2], np.abs(rect[2] - rect[0]), \n",
    "                       np.abs(rect[3] - rect[1]), facecolor='none',\n",
    "                       edgecolor='red', lw=3))\n",
    "ax.add_patch(Circle(center, radius, edgecolor='red', facecolor='none', lw=3))"
   ]
  },
  {
   "cell_type": "code",
   "execution_count": 156,
   "id": "e396f0f4",
   "metadata": {},
   "outputs": [],
   "source": [
    "def makedata(array, label):\n",
    "    return np.array([array[0][0], array[1][0], np.array([label for i in range(array.shape[2])]), \n",
    "                       np.array(['' for i in range(array.shape[2])])], dtype=object).T"
   ]
  },
  {
   "cell_type": "code",
   "execution_count": 157,
   "id": "b036dbc5",
   "metadata": {},
   "outputs": [],
   "source": [
    "first_data = makedata(first, 'first')\n",
    "second_data = makedata(second, 'second')\n",
    "data = np.concatenate([first_data, second_data])\n",
    "\n",
    "df = pd.DataFrame(columns=['x', 'y', 'actual', 'prediction'], data=data)"
   ]
  },
  {
   "cell_type": "code",
   "execution_count": 178,
   "id": "3b6ef89c",
   "metadata": {},
   "outputs": [],
   "source": [
    "def check_ellipse(obj, center, radius):\n",
    "    return (obj[0] - center[0]) ** 2 + (obj[1] - center[1]) ** 2 <= radius ** 2"
   ]
  },
  {
   "cell_type": "code",
   "execution_count": 166,
   "id": "8c664fdf",
   "metadata": {},
   "outputs": [],
   "source": [
    "def check_rect(obj, min_, max_):\n",
    "    return (obj[0] >= min_[0] and obj[0] <= max_[0] and \n",
    "            obj[1] >= min_[0] and obj[1] <= max_[1])"
   ]
  },
  {
   "cell_type": "code",
   "execution_count": 181,
   "id": "08f7736c",
   "metadata": {},
   "outputs": [],
   "source": [
    "def check_all(data, center, radius, min_, max_):\n",
    "    for d in data:\n",
    "        if check_ellipse(d[:2], center, radius):\n",
    "            d[3] = 'first'\n",
    "        elif check_rect(d[:2], min_, max_):\n",
    "            d[3] = 'second'\n",
    "            \n",
    "    return data"
   ]
  },
  {
   "cell_type": "code",
   "execution_count": 187,
   "id": "38d6f850",
   "metadata": {},
   "outputs": [
    {
     "data": {
      "text/html": [
       "<div>\n",
       "<style scoped>\n",
       "    .dataframe tbody tr th:only-of-type {\n",
       "        vertical-align: middle;\n",
       "    }\n",
       "\n",
       "    .dataframe tbody tr th {\n",
       "        vertical-align: top;\n",
       "    }\n",
       "\n",
       "    .dataframe thead th {\n",
       "        text-align: right;\n",
       "    }\n",
       "</style>\n",
       "<table border=\"1\" class=\"dataframe\">\n",
       "  <thead>\n",
       "    <tr style=\"text-align: right;\">\n",
       "      <th></th>\n",
       "      <th>x</th>\n",
       "      <th>y</th>\n",
       "      <th>actual</th>\n",
       "      <th>prediction</th>\n",
       "    </tr>\n",
       "  </thead>\n",
       "  <tbody>\n",
       "    <tr>\n",
       "      <th>0</th>\n",
       "      <td>14.340018</td>\n",
       "      <td>19.253972</td>\n",
       "      <td>first</td>\n",
       "      <td>first</td>\n",
       "    </tr>\n",
       "    <tr>\n",
       "      <th>1</th>\n",
       "      <td>11.462756</td>\n",
       "      <td>15.619155</td>\n",
       "      <td>first</td>\n",
       "      <td>first</td>\n",
       "    </tr>\n",
       "    <tr>\n",
       "      <th>2</th>\n",
       "      <td>13.050433</td>\n",
       "      <td>15.362229</td>\n",
       "      <td>first</td>\n",
       "      <td>first</td>\n",
       "    </tr>\n",
       "    <tr>\n",
       "      <th>3</th>\n",
       "      <td>9.440171</td>\n",
       "      <td>8.995339</td>\n",
       "      <td>first</td>\n",
       "      <td>first</td>\n",
       "    </tr>\n",
       "    <tr>\n",
       "      <th>4</th>\n",
       "      <td>12.046722</td>\n",
       "      <td>16.401269</td>\n",
       "      <td>first</td>\n",
       "      <td>first</td>\n",
       "    </tr>\n",
       "    <tr>\n",
       "      <th>...</th>\n",
       "      <td>...</td>\n",
       "      <td>...</td>\n",
       "      <td>...</td>\n",
       "      <td>...</td>\n",
       "    </tr>\n",
       "    <tr>\n",
       "      <th>295</th>\n",
       "      <td>39.332921</td>\n",
       "      <td>72.590732</td>\n",
       "      <td>second</td>\n",
       "      <td>second</td>\n",
       "    </tr>\n",
       "    <tr>\n",
       "      <th>296</th>\n",
       "      <td>41.074694</td>\n",
       "      <td>74.531008</td>\n",
       "      <td>second</td>\n",
       "      <td>second</td>\n",
       "    </tr>\n",
       "    <tr>\n",
       "      <th>297</th>\n",
       "      <td>41.768551</td>\n",
       "      <td>81.418552</td>\n",
       "      <td>second</td>\n",
       "      <td>second</td>\n",
       "    </tr>\n",
       "    <tr>\n",
       "      <th>298</th>\n",
       "      <td>43.772946</td>\n",
       "      <td>58.511889</td>\n",
       "      <td>second</td>\n",
       "      <td>second</td>\n",
       "    </tr>\n",
       "    <tr>\n",
       "      <th>299</th>\n",
       "      <td>31.442841</td>\n",
       "      <td>59.283492</td>\n",
       "      <td>second</td>\n",
       "      <td>second</td>\n",
       "    </tr>\n",
       "  </tbody>\n",
       "</table>\n",
       "<p>300 rows × 4 columns</p>\n",
       "</div>"
      ],
      "text/plain": [
       "             x          y  actual prediction\n",
       "0    14.340018  19.253972   first      first\n",
       "1    11.462756  15.619155   first      first\n",
       "2    13.050433  15.362229   first      first\n",
       "3     9.440171   8.995339   first      first\n",
       "4    12.046722  16.401269   first      first\n",
       "..         ...        ...     ...        ...\n",
       "295  39.332921  72.590732  second     second\n",
       "296  41.074694  74.531008  second     second\n",
       "297  41.768551  81.418552  second     second\n",
       "298  43.772946  58.511889  second     second\n",
       "299  31.442841  59.283492  second     second\n",
       "\n",
       "[300 rows x 4 columns]"
      ]
     },
     "execution_count": 187,
     "metadata": {},
     "output_type": "execute_result"
    }
   ],
   "source": [
    "checked_data = check_all(data, center, radius, rect[:2], rect[2:])\n",
    "checked_df = pd.DataFrame(columns=df.columns, data=checked_data)\n",
    "checked_df"
   ]
  },
  {
   "cell_type": "code",
   "execution_count": 188,
   "id": "9c0b9a48",
   "metadata": {},
   "outputs": [],
   "source": [
    "def report(checked_data):\n",
    "    errors_count = 0\n",
    "    for d in checked_data:\n",
    "        if d[3] != d[2]:\n",
    "            errors_count += 1\n",
    "            \n",
    "    return errors_count"
   ]
  },
  {
   "cell_type": "code",
   "execution_count": 189,
   "id": "8986b4bd",
   "metadata": {},
   "outputs": [
    {
     "data": {
      "text/plain": [
       "0"
      ]
     },
     "execution_count": 189,
     "metadata": {},
     "output_type": "execute_result"
    }
   ],
   "source": [
    "report(checked_data)"
   ]
  },
  {
   "cell_type": "code",
   "execution_count": null,
   "id": "4b0cf3ca",
   "metadata": {},
   "outputs": [],
   "source": []
  }
 ],
 "metadata": {
  "kernelspec": {
   "display_name": "Python 3",
   "language": "python",
   "name": "python3"
  },
  "language_info": {
   "codemirror_mode": {
    "name": "ipython",
    "version": 3
   },
   "file_extension": ".py",
   "mimetype": "text/x-python",
   "name": "python",
   "nbconvert_exporter": "python",
   "pygments_lexer": "ipython3",
   "version": "3.8.5"
  }
 },
 "nbformat": 4,
 "nbformat_minor": 5
}
