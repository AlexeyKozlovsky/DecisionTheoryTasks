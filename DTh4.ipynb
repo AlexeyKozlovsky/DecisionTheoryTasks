{
 "cells": [
  {
   "cell_type": "markdown",
   "metadata": {},
   "source": [
    "## Методы экспертных оценок"
   ]
  },
  {
   "cell_type": "code",
   "execution_count": 24,
   "metadata": {},
   "outputs": [],
   "source": [
    "import numpy as np\n",
    "import pandas as pd\n",
    "\n",
    "from collections import Counter"
   ]
  },
  {
   "cell_type": "markdown",
   "metadata": {},
   "source": [
    "### Определение необходимых функций"
   ]
  },
  {
   "cell_type": "markdown",
   "metadata": {},
   "source": [
    "#### Метод средних рангов"
   ]
  },
  {
   "cell_type": "code",
   "execution_count": 14,
   "metadata": {},
   "outputs": [],
   "source": [
    "def avg_rangs_method(data):\n",
    "    \"\"\"\n",
    "    Функиция для ранжирования альтернатив согласно экспертным оценкам\n",
    "    методом средних рангов\n",
    "    \n",
    "    data: матрица экспертных оценок (строки - эксперты, столбцы - альтернативы) [numpy.array]\n",
    "    \n",
    "    returns: массив np.array отранжированных номеров альтернатив\n",
    "    \"\"\"\n",
    "    return np.argsort([np.average(c) for c in data.T])"
   ]
  },
  {
   "cell_type": "markdown",
   "metadata": {},
   "source": [
    "#### Метод медиан рангов"
   ]
  },
  {
   "cell_type": "code",
   "execution_count": 15,
   "metadata": {},
   "outputs": [],
   "source": [
    "def median_rangs_method(data):\n",
    "    \"\"\"\n",
    "    Функиция для ранжирования альтернатив согласно экспертным оценкам\n",
    "    методом медиан рангов\n",
    "    \n",
    "    data: матрица экспертных оценок (строки - эксперты, столбцы - альтернативы) [numpy.array]\n",
    "    \n",
    "    returns: массив np.array отранжированных номеров альтернатив\n",
    "    \"\"\"\n",
    "    return np.argsort([np.median(c) for c in data.T])"
   ]
  },
  {
   "cell_type": "markdown",
   "metadata": {},
   "source": [
    "#### Метод весовых коэффициентов"
   ]
  },
  {
   "cell_type": "code",
   "execution_count": 16,
   "metadata": {},
   "outputs": [],
   "source": [
    "def weight_koeffs(data, weights):\n",
    "    \"\"\"\n",
    "    Функиция для ранжирования альтернатив согласно экспертным оценкам,\n",
    "    используя весовые коэффициенты.\n",
    "    \n",
    "    data: матрица экспертных оценок (строки - эксперты, столбцы - альтернативы) [numpy.array]\n",
    "    weights: вектор весов для альтернатив [numpy.array]\n",
    "    \n",
    "    returns: массив np.array отранжированных номеров альтернатив\n",
    "    \"\"\"\n",
    "    data = -data + np.max(data) + 1\n",
    "    return np.argsort([np.sum(c * weights[r]) for r, c in enumerate(data.T)])"
   ]
  },
  {
   "cell_type": "markdown",
   "metadata": {},
   "source": [
    "#### Подсчет коэффициента конкордации"
   ]
  },
  {
   "cell_type": "code",
   "execution_count": 17,
   "metadata": {},
   "outputs": [],
   "source": [
    "def concordance_koeff(data):\n",
    "    \"\"\"\n",
    "    Функция для определения вычисления коэффициента конкордации для\n",
    "    оценки согласованности экспертов\n",
    "    \n",
    "    data: матрица экспертных оценок (строки - эксперты, столбцы - альтернативы) [numpy.array]\n",
    "    \n",
    "    returns: значение коэффициента конкордации\n",
    "    \"\"\"\n",
    "    \n",
    "    t = 0\n",
    "    for row in data:\n",
    "        same = Counter(row)\n",
    "        for key in same:\n",
    "            t += same[key] ** 3 - same[key]\n",
    "        \n",
    "    sum_ = np.array([np.sum(c) for c in data.T])\n",
    "    deviations = np.sum((sum_.mean() - sum_) ** 2)\n",
    "    m, n = data.shape\n",
    "    \n",
    "    result = 12 * deviations / ((m ** 2) * (n ** 3 - n) - m * t)\n",
    "    return result"
   ]
  },
  {
   "cell_type": "markdown",
   "metadata": {},
   "source": [
    "### Тестирование\n",
    "Протестируем наши функции на данных из примера к заданию"
   ]
  },
  {
   "cell_type": "markdown",
   "metadata": {},
   "source": [
    "#### Подгрузка тестовых данных"
   ]
  },
  {
   "cell_type": "code",
   "execution_count": 25,
   "metadata": {},
   "outputs": [],
   "source": [
    "test_df = pd.read_csv('CvsFiles/ExpertPoints.cvs')\n",
    "test_data = test_df.to_numpy()"
   ]
  },
  {
   "cell_type": "code",
   "execution_count": 26,
   "metadata": {},
   "outputs": [
    {
     "data": {
      "text/html": [
       "<div>\n",
       "<style scoped>\n",
       "    .dataframe tbody tr th:only-of-type {\n",
       "        vertical-align: middle;\n",
       "    }\n",
       "\n",
       "    .dataframe tbody tr th {\n",
       "        vertical-align: top;\n",
       "    }\n",
       "\n",
       "    .dataframe thead th {\n",
       "        text-align: right;\n",
       "    }\n",
       "</style>\n",
       "<table border=\"1\" class=\"dataframe\">\n",
       "  <thead>\n",
       "    <tr style=\"text-align: right;\">\n",
       "      <th></th>\n",
       "      <th>a1</th>\n",
       "      <th>a2</th>\n",
       "      <th>a3</th>\n",
       "      <th>a4</th>\n",
       "      <th>a5</th>\n",
       "      <th>a6</th>\n",
       "      <th>a7</th>\n",
       "      <th>a8</th>\n",
       "    </tr>\n",
       "  </thead>\n",
       "  <tbody>\n",
       "    <tr>\n",
       "      <th>0</th>\n",
       "      <td>4.5</td>\n",
       "      <td>2</td>\n",
       "      <td>2</td>\n",
       "      <td>2</td>\n",
       "      <td>8</td>\n",
       "      <td>4.5</td>\n",
       "      <td>6</td>\n",
       "      <td>7</td>\n",
       "    </tr>\n",
       "    <tr>\n",
       "      <th>1</th>\n",
       "      <td>8.0</td>\n",
       "      <td>7</td>\n",
       "      <td>6</td>\n",
       "      <td>3</td>\n",
       "      <td>3</td>\n",
       "      <td>3.0</td>\n",
       "      <td>3</td>\n",
       "      <td>3</td>\n",
       "    </tr>\n",
       "    <tr>\n",
       "      <th>2</th>\n",
       "      <td>5.0</td>\n",
       "      <td>3</td>\n",
       "      <td>1</td>\n",
       "      <td>2</td>\n",
       "      <td>8</td>\n",
       "      <td>4.0</td>\n",
       "      <td>6</td>\n",
       "      <td>7</td>\n",
       "    </tr>\n",
       "    <tr>\n",
       "      <th>3</th>\n",
       "      <td>5.0</td>\n",
       "      <td>3</td>\n",
       "      <td>1</td>\n",
       "      <td>2</td>\n",
       "      <td>8</td>\n",
       "      <td>4.0</td>\n",
       "      <td>6</td>\n",
       "      <td>7</td>\n",
       "    </tr>\n",
       "    <tr>\n",
       "      <th>4</th>\n",
       "      <td>5.0</td>\n",
       "      <td>3</td>\n",
       "      <td>1</td>\n",
       "      <td>2</td>\n",
       "      <td>8</td>\n",
       "      <td>4.0</td>\n",
       "      <td>6</td>\n",
       "      <td>7</td>\n",
       "    </tr>\n",
       "    <tr>\n",
       "      <th>5</th>\n",
       "      <td>5.0</td>\n",
       "      <td>3</td>\n",
       "      <td>1</td>\n",
       "      <td>2</td>\n",
       "      <td>8</td>\n",
       "      <td>4.0</td>\n",
       "      <td>6</td>\n",
       "      <td>7</td>\n",
       "    </tr>\n",
       "    <tr>\n",
       "      <th>6</th>\n",
       "      <td>5.0</td>\n",
       "      <td>3</td>\n",
       "      <td>1</td>\n",
       "      <td>2</td>\n",
       "      <td>8</td>\n",
       "      <td>4.0</td>\n",
       "      <td>6</td>\n",
       "      <td>7</td>\n",
       "    </tr>\n",
       "    <tr>\n",
       "      <th>7</th>\n",
       "      <td>5.0</td>\n",
       "      <td>3</td>\n",
       "      <td>1</td>\n",
       "      <td>2</td>\n",
       "      <td>8</td>\n",
       "      <td>4.0</td>\n",
       "      <td>6</td>\n",
       "      <td>7</td>\n",
       "    </tr>\n",
       "    <tr>\n",
       "      <th>8</th>\n",
       "      <td>8.0</td>\n",
       "      <td>3</td>\n",
       "      <td>1</td>\n",
       "      <td>2</td>\n",
       "      <td>5</td>\n",
       "      <td>4.0</td>\n",
       "      <td>6</td>\n",
       "      <td>7</td>\n",
       "    </tr>\n",
       "    <tr>\n",
       "      <th>9</th>\n",
       "      <td>2.0</td>\n",
       "      <td>3</td>\n",
       "      <td>1</td>\n",
       "      <td>5</td>\n",
       "      <td>8</td>\n",
       "      <td>4.0</td>\n",
       "      <td>6</td>\n",
       "      <td>7</td>\n",
       "    </tr>\n",
       "    <tr>\n",
       "      <th>10</th>\n",
       "      <td>5.0</td>\n",
       "      <td>3</td>\n",
       "      <td>1</td>\n",
       "      <td>2</td>\n",
       "      <td>8</td>\n",
       "      <td>4.0</td>\n",
       "      <td>6</td>\n",
       "      <td>7</td>\n",
       "    </tr>\n",
       "    <tr>\n",
       "      <th>11</th>\n",
       "      <td>5.0</td>\n",
       "      <td>3</td>\n",
       "      <td>1</td>\n",
       "      <td>2</td>\n",
       "      <td>8</td>\n",
       "      <td>4.0</td>\n",
       "      <td>6</td>\n",
       "      <td>7</td>\n",
       "    </tr>\n",
       "  </tbody>\n",
       "</table>\n",
       "</div>"
      ],
      "text/plain": [
       "     a1  a2  a3  a4  a5   a6  a7  a8\n",
       "0   4.5   2   2   2   8  4.5   6   7\n",
       "1   8.0   7   6   3   3  3.0   3   3\n",
       "2   5.0   3   1   2   8  4.0   6   7\n",
       "3   5.0   3   1   2   8  4.0   6   7\n",
       "4   5.0   3   1   2   8  4.0   6   7\n",
       "5   5.0   3   1   2   8  4.0   6   7\n",
       "6   5.0   3   1   2   8  4.0   6   7\n",
       "7   5.0   3   1   2   8  4.0   6   7\n",
       "8   8.0   3   1   2   5  4.0   6   7\n",
       "9   2.0   3   1   5   8  4.0   6   7\n",
       "10  5.0   3   1   2   8  4.0   6   7\n",
       "11  5.0   3   1   2   8  4.0   6   7"
      ]
     },
     "execution_count": 26,
     "metadata": {},
     "output_type": "execute_result"
    }
   ],
   "source": [
    "test_df"
   ]
  },
  {
   "cell_type": "code",
   "execution_count": 27,
   "metadata": {},
   "outputs": [],
   "source": [
    "weights = np.random.randint(1, 99, (test_data.shape[0]))\n",
    "weights = weights / np.sum(weights)\n",
    "mean_result = avg_rangs_method(test_data)\n",
    "median_result = median_rangs_method(test_data)\n",
    "weights_result = weight_koeffs(test_data, weights)\n",
    "conc_koeff = concordance_koeff(test_data)"
   ]
  },
  {
   "cell_type": "code",
   "execution_count": 28,
   "metadata": {},
   "outputs": [
    {
     "name": "stdout",
     "output_type": "stream",
     "text": [
      "[2 3 1 5 0 6 7 4]\n",
      "[2 3 1 5 0 6 7 4]\n",
      "[4 7 2 6 0 5 1 3]\n",
      "0.7406748050186504\n"
     ]
    }
   ],
   "source": [
    "print(mean_result)\n",
    "print(median_result)\n",
    "print(weights_result)\n",
    "print(conc_koeff)"
   ]
  },
  {
   "cell_type": "markdown",
   "metadata": {},
   "source": [
    "### Проверка на своих оценках"
   ]
  },
  {
   "cell_type": "code",
   "execution_count": 21,
   "metadata": {},
   "outputs": [],
   "source": [
    "expert_count = 10\n",
    "alternative_count = 8\n",
    "min_rang, max_rang = 1, 8\n",
    "params = {\n",
    "    'low': min_rang,\n",
    "    'high': max_rang,\n",
    "    'size': (expert_count, alternative_count),\n",
    "    'dtype': int\n",
    "}\n",
    "\n",
    "data = np.random.randint(**params)"
   ]
  },
  {
   "cell_type": "code",
   "execution_count": 22,
   "metadata": {},
   "outputs": [],
   "source": [
    "weights = np.random.randint(1, 99, (data.shape[0]))\n",
    "weights = weights / np.sum(weights)\n",
    "mean_result = avg_rangs_method(data)\n",
    "median_result = median_rangs_method(data)\n",
    "weights_result = weight_koeffs(data, weights)\n",
    "conc_koeff = concordance_koeff(data)"
   ]
  },
  {
   "cell_type": "code",
   "execution_count": 23,
   "metadata": {},
   "outputs": [
    {
     "name": "stdout",
     "output_type": "stream",
     "text": [
      "[6 2 1 3 5 0 7 4]\n",
      "[6 1 2 0 3 4 5 7]\n",
      "[7 4 6 0 3 1 2 5]\n",
      "0.0676056338028169\n"
     ]
    }
   ],
   "source": [
    "print(mean_result)\n",
    "print(median_result)\n",
    "print(weights_result)\n",
    "print(conc_koeff)"
   ]
  },
  {
   "cell_type": "code",
   "execution_count": null,
   "metadata": {},
   "outputs": [],
   "source": []
  }
 ],
 "metadata": {
  "kernelspec": {
   "display_name": "Python 3",
   "language": "python",
   "name": "python3"
  },
  "language_info": {
   "codemirror_mode": {
    "name": "ipython",
    "version": 3
   },
   "file_extension": ".py",
   "mimetype": "text/x-python",
   "name": "python",
   "nbconvert_exporter": "python",
   "pygments_lexer": "ipython3",
   "version": "3.8.5"
  }
 },
 "nbformat": 4,
 "nbformat_minor": 4
}
