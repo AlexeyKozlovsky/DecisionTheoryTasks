{
 "cells": [
  {
   "cell_type": "markdown",
   "id": "fc77cf51",
   "metadata": {},
   "source": [
    "## ТПР 11. Голотип-1\n",
    "#### Козловский А.А., гр. 2253"
   ]
  },
  {
   "cell_type": "code",
   "execution_count": 94,
   "id": "d2cf75f1",
   "metadata": {},
   "outputs": [],
   "source": [
    "import numpy as np\n",
    "import pandas as pd\n",
    "import matplotlib.pyplot as plt\n",
    "from matplotlib.colors import ListedColormap"
   ]
  },
  {
   "cell_type": "code",
   "execution_count": 8,
   "id": "32157771",
   "metadata": {},
   "outputs": [],
   "source": [
    "df_train = pd.read_csv('CvsFiles/Holotype1TrainSet.csv')\n",
    "df_test = pd.read_csv('CvsFiles/Holotype1TestSet.csv')\n",
    "\n",
    "data_train = df_train.to_numpy(dtype=float)\n",
    "data_test = df_test.to_numpy(dtype=float)"
   ]
  },
  {
   "cell_type": "markdown",
   "id": "870afdcd",
   "metadata": {},
   "source": [
    "### Реализация необходимых функций"
   ]
  },
  {
   "cell_type": "code",
   "execution_count": 15,
   "id": "39896727",
   "metadata": {},
   "outputs": [],
   "source": [
    "def get_similarity_measure(value1, value2, ex):\n",
    "    \"\"\"Функция для подсчета меры сходства двух объектов\n",
    "    value1: значение свойства первого объекта\n",
    "    value2: значение свойства второго объекта\n",
    "    ex: экстримальная разность для рассматриваемого свойства\n",
    "    returns: меру сходства\"\"\"\n",
    "    return 1 - np.abs(value1 - value2) / ex"
   ]
  },
  {
   "cell_type": "code",
   "execution_count": 21,
   "id": "5f3a705a",
   "metadata": {},
   "outputs": [],
   "source": [
    "def build_similarity_matrix(data, feature_num):\n",
    "    \"\"\"Функция для построения матрицы сходства\n",
    "    requirements: numpy\n",
    "    data: значения свойств объектов [np.array]\n",
    "    fearute_num: номер рассматриваемого свойства [int]\n",
    "    returns: матрицу схожести [np.array]\"\"\"\n",
    "    ex = np.max(data.T[feature_num]) - np.min(data.T[feature_num])\n",
    "    result = np.zeros((data.shape[0], data.shape[0]))\n",
    "    for i, value1 in enumerate(data.T[feature_num]):\n",
    "        for j, value2 in enumerate(data.T[feature_num]):\n",
    "            result[i, j] = get_similarity_measure(value1, value2, ex)\n",
    "            \n",
    "    return result"
   ]
  },
  {
   "cell_type": "code",
   "execution_count": 63,
   "id": "7caf8241",
   "metadata": {},
   "outputs": [],
   "source": [
    "def build_avg_similarity_matrix(data):\n",
    "    \"\"\"Функция для построения средней матрицы схожести \n",
    "    по всем свойствам\n",
    "    requirements: numpy\n",
    "    data: матрица свойств объектов [np.array]\n",
    "    returns: среднюю матрицу схожести [np.array]\"\"\"\n",
    "    result = np.zeros((data.shape[0], data.shape[0]))\n",
    "    \n",
    "    for num, column in enumerate(data.T):\n",
    "        result += build_similarity_matrix(data, num)\n",
    "        \n",
    "    result /= data.shape[1]\n",
    "    return result"
   ]
  },
  {
   "cell_type": "code",
   "execution_count": 38,
   "id": "808ce725",
   "metadata": {},
   "outputs": [],
   "source": [
    "def get_average_similarity(similarity_matrix):\n",
    "    \"\"\"Функция для подсчёта средней меры сходства\n",
    "    requirements: numpy\n",
    "    similarity_matrix: матрица сходства [np.array]\n",
    "    returns: среднюю меру сходства [float]\"\"\"\n",
    "    r = similarity_matrix.shape[0]\n",
    "    return (np.sum(similarity_matrix) - r) / (r * (r - 1))"
   ]
  },
  {
   "cell_type": "code",
   "execution_count": 108,
   "id": "bc70f3d5",
   "metadata": {},
   "outputs": [],
   "source": [
    "def to_groups(similarity_matrix, bound):\n",
    "    \"\"\"Функция для распределения объектов по равномерным группам\n",
    "    requirements: numpy\n",
    "    similarity_matrix: матрица сходства [np.array]\n",
    "    bound: нижний порог для отнесения объектов одной группе [float]\n",
    "    returns: массив групп [np.array], каждая из которых [set]\"\"\"\n",
    "    result = []\n",
    "    for i in range(similarity_matrix.shape[0]):\n",
    "        for j in range(i+1, similarity_matrix.shape[1]):\n",
    "            if similarity_matrix[i, j] >= bound:\n",
    "                done = False\n",
    "                for s in result:\n",
    "                    if i in s:\n",
    "                        s.add(j)\n",
    "                        done = True\n",
    "                        break\n",
    "                    elif j in s:\n",
    "                        s.add(i)\n",
    "                        done = True\n",
    "                        break\n",
    "                \n",
    "                if not done:\n",
    "                    result.append(set())\n",
    "                    result[-1].add(i)\n",
    "                    result[-1].add(j)\n",
    "    \n",
    "    return np.array(result)"
   ]
  },
  {
   "cell_type": "code",
   "execution_count": 311,
   "id": "d62baa10",
   "metadata": {},
   "outputs": [],
   "source": [
    "def get_holotypes(similarity_matrix, sets):\n",
    "    \"\"\"Функция для нахождения голотипов групп\n",
    "    requirements: numpy\n",
    "    similarity_matrix: матрица сходства [np.array]\n",
    "    sets: группы [np.array]\n",
    "    returns: номера объектов-голотипов [np.array]\"\"\"\n",
    "    result = np.zeros((sets.shape[0]), dtype=int)\n",
    "    for num, set_ in enumerate(sets):\n",
    "        max_sim = 0\n",
    "        for i in set_:\n",
    "            current_sum = np.sum([similarity_matrix[i, j] \n",
    "                              for j in set_])\n",
    "            if max_sim < current_sum:\n",
    "                max_sim = current_sum\n",
    "                result[num] = i\n",
    "                \n",
    "    return result"
   ]
  },
  {
   "cell_type": "code",
   "execution_count": 312,
   "id": "3818f14e",
   "metadata": {},
   "outputs": [],
   "source": [
    "def get_radiuses(similarity_matrix, sets, holotypes):\n",
    "    \"\"\"Функция для нахождения радусов групп\n",
    "    requirements: numpy\n",
    "    similarity_matrix: матрица сходств [np.array]\n",
    "    sets: однородные группы [np.array]\n",
    "    holotypes: голотипы групп [np.array]\n",
    "    returns: массив радиусов групп [np.array]\"\"\"\n",
    "    result = np.zeros(sets.shape)\n",
    "    for num, set_ in enumerate(sets):\n",
    "        result[num] = np.min([similarity_matrix[holotypes[num], i] \n",
    "                              for i in set_])\n",
    "            \n",
    "    return result"
   ]
  },
  {
   "cell_type": "code",
   "execution_count": 313,
   "id": "a8ad2163",
   "metadata": {},
   "outputs": [],
   "source": [
    "def test(holotypes, radiuses, test_data, exs):\n",
    "    \"\"\"Функция для распредления материала экзамена\n",
    "    по однородным группам\n",
    "    requirements: numpy\n",
    "    holotypes: голотипы групп [np.array]\n",
    "    radiuses: радиусы групп [np.array]\n",
    "    test_data: материал экзамена [np.array]\n",
    "    exs: экстримальные разности для свойств [np.array] \n",
    "    returns: вектор принадлежнасти к группам объектов\n",
    "    материала экзамена [np.array]\"\"\"\n",
    "    result = np.zeros((test_data.shape[0]), dtype=int)\n",
    "    for num, values in enumerate(test_data):\n",
    "        current = []\n",
    "        for num_h, holotype in enumerate(holotypes):\n",
    "            current.append(np.average([get_similarity_measure(holotype[i], value, exs[i]) / exs[i]\n",
    "                                              for i, value in enumerate(values)]))\n",
    "        result[num] = np.argmax(current)\n",
    "        \n",
    "    return result"
   ]
  },
  {
   "cell_type": "code",
   "execution_count": 314,
   "id": "2d4a47bb",
   "metadata": {},
   "outputs": [],
   "source": [
    "similarity_matrix = build_avg_similarity_matrix(data_train)\n",
    "average_similarity = get_average_similarity(similarity_matrix)\n",
    "\n",
    "sets = to_groups(similarity_matrix, average_similarity + 0.2)"
   ]
  },
  {
   "cell_type": "code",
   "execution_count": 315,
   "id": "c8c2780a",
   "metadata": {},
   "outputs": [
    {
     "data": {
      "image/png": "[encoded data removed]",
      "text/plain": [
       "<Figure size 432x288 with 1 Axes>"
      ]
     },
     "metadata": {
      "needs_background": "light"
     },
     "output_type": "display_data"
    }
   ],
   "source": [
    "cmap = ['red', 'green', 'blue', 'gray', 'orange', 'black']\n",
    "for k, s in enumerate(sets):\n",
    "    plt.scatter([data_train.T[0][i] for i in s], [data_train.T[1][i] for i in s], color=cmap[k])\n",
    "plt.show()"
   ]
  },
  {
   "cell_type": "code",
   "execution_count": 316,
   "id": "ba9048d9",
   "metadata": {},
   "outputs": [
    {
     "data": {
      "image/png": "[encoded data removed]",
      "text/plain": [
       "<Figure size 432x288 with 1 Axes>"
      ]
     },
     "metadata": {
      "needs_background": "light"
     },
     "output_type": "display_data"
    }
   ],
   "source": [
    "holotypes = np.array(get_holotypes(similarity_matrix, sets), dtype=int)\n",
    "radiuses = get_radiuses(similarity_matrix, sets, holotypes)\n",
    "for k, s in enumerate(sets):\n",
    "    plt.scatter([data_train.T[0][i] for i in s], [data_train.T[1][i] for i in s], color=cmap[k])\n",
    "\n",
    "    plt.scatter([data_train.T[0][i] for i in holotypes],\n",
    "            [data_train.T[1][i] for i in holotypes],\n",
    "            color='black', linewidths=2, edgecolors='cyan')\n",
    "plt.show()"
   ]
  },
  {
   "cell_type": "code",
   "execution_count": 317,
   "id": "882b9c1d",
   "metadata": {},
   "outputs": [],
   "source": [
    "exs = np.array([np.max(data_test.T[i]) - np.min(data_test.T[i])\n",
    "                for i in range(data_test.shape[1])])\n",
    "holotypes_coordinates = np.array([data_train[num_h] for num_h in holotypes])\n",
    "test_data_classes = test(holotypes_coordinates, radiuses, data_test, exs)"
   ]
  },
  {
   "cell_type": "code",
   "execution_count": 319,
   "id": "fdf49bb2",
   "metadata": {},
   "outputs": [
    {
     "data": {
      "image/png": "[encoded data removed]",
      "text/plain": [
       "<Figure size 432x288 with 1 Axes>"
      ]
     },
     "metadata": {
      "needs_background": "light"
     },
     "output_type": "display_data"
    }
   ],
   "source": [
    "for k, s in enumerate(sets):\n",
    "    plt.scatter([data_train.T[0][i] for i in s], [data_train.T[1][i] for i in s], color=cmap[k])\n",
    "\n",
    "    plt.scatter([data_train.T[0][i] for i in holotypes],\n",
    "            [data_train.T[1][i] for i in holotypes],\n",
    "            color='black', linewidths=2, edgecolors='cyan')\n",
    "    \n",
    "for i, tds in enumerate(test_data_classes):\n",
    "    plt.scatter(data_test[i][0], data_test[i][1], \n",
    "                color=cmap[tds], marker='X', s=150, edgecolors='black',\n",
    "                linewidth=2)\n",
    "plt.show()"
   ]
  },
  {
   "cell_type": "code",
   "execution_count": null,
   "id": "e7cb8931",
   "metadata": {},
   "outputs": [],
   "source": []
  }
 ],
 "metadata": {
  "kernelspec": {
   "display_name": "Python 3",
   "language": "python",
   "name": "python3"
  },
  "language_info": {
   "codemirror_mode": {
    "name": "ipython",
    "version": 3
   },
   "file_extension": ".py",
   "mimetype": "text/x-python",
   "name": "python",
   "nbconvert_exporter": "python",
   "pygments_lexer": "ipython3",
   "version": "3.8.5"
  }
 },
 "nbformat": 4,
 "nbformat_minor": 5
}
