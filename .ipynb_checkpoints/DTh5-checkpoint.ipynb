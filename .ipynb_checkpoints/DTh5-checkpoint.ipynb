{
 "cells": [
  {
   "cell_type": "markdown",
   "metadata": {},
   "source": [
    "## Игры с природой\n",
    "#### Козловский А.А., гр. 2253"
   ]
  },
  {
   "cell_type": "code",
   "execution_count": 44,
   "metadata": {},
   "outputs": [],
   "source": [
    "import numpy as np"
   ]
  },
  {
   "cell_type": "markdown",
   "metadata": {},
   "source": [
    "### Определение необходимых функций"
   ]
  },
  {
   "cell_type": "code",
   "execution_count": 32,
   "metadata": {},
   "outputs": [],
   "source": [
    "def hurwitz(matrix, opt):\n",
    "    \"\"\"\n",
    "    Функция для определения оптимальной стратегии\n",
    "    по критерию Гурвица\n",
    "    \n",
    "    matrix: матрица исходов [np.array]\n",
    "    opt: степень оптимизма\n",
    "    \n",
    "    returns: номер стратегии, по которой надо играть игроку А\n",
    "    \"\"\"\n",
    "    return np.argmax([opt * np.max(r) + (1 - opt) * np.min(r) for r in matrix])"
   ]
  },
  {
   "cell_type": "code",
   "execution_count": 33,
   "metadata": {},
   "outputs": [],
   "source": [
    "def maximin(matrix):\n",
    "    \"\"\"\n",
    "    Функция для определения оптимальной стратегии\n",
    "    по критерию Вальда\n",
    "    \n",
    "    matrix: матрица исходов [np.array]\n",
    "    \n",
    "    returns: номер стратегии, по которой надо играть игроку А\n",
    "    \"\"\"\n",
    "    return hurwitz(matrix, 0)"
   ]
  },
  {
   "cell_type": "code",
   "execution_count": 34,
   "metadata": {},
   "outputs": [],
   "source": [
    "def maximax(matrix):\n",
    "    \"\"\"\n",
    "    Функция для определения оптимальной стратегии\n",
    "    по максимаксному критерию\n",
    "    \n",
    "    matrix: матрица исходов [np.array]\n",
    "    \n",
    "    returns: номер стратегии, по которой надо играть игроку А\n",
    "    \"\"\"\n",
    "    return hurwitz(matrix, 1)"
   ]
  },
  {
   "cell_type": "code",
   "execution_count": 38,
   "metadata": {},
   "outputs": [],
   "source": [
    "def minimax(matrix):\n",
    "    \"\"\"\n",
    "    Функция для определения оптимальной стратегии\n",
    "    по минимаксному критерию\n",
    "    \n",
    "    matrix: матрица исходов [np.array]\n",
    "    \n",
    "    returns: номер стратегии, по которой надо играть игроку А\n",
    "    \"\"\"  \n",
    "    return np.argmin([np.max(r) for r in matrix])"
   ]
  },
  {
   "cell_type": "code",
   "execution_count": 45,
   "metadata": {},
   "outputs": [],
   "source": [
    "def baies(matrix, probs):\n",
    "    \"\"\"\n",
    "    Функция для определения оптимальной стратегии\n",
    "    по минимаксному критерию\n",
    "    \n",
    "    matrix: матрица исходов [np.array]\n",
    "    probs: вектор вероятностей стратегий игрока П\n",
    "    \n",
    "    returns: номер стратегии, по которой надо играть игроку А\n",
    "    \"\"\"\n",
    "    return np.argmax([np.dot(r, probs) for r in matrix])"
   ]
  },
  {
   "cell_type": "markdown",
   "metadata": {},
   "source": [
    "### Тестирование"
   ]
  },
  {
   "cell_type": "code",
   "execution_count": 48,
   "metadata": {},
   "outputs": [
    {
     "name": "stdout",
     "output_type": "stream",
     "text": [
      "По критерию Вальда выгоднее играть по стратегии А1\n",
      "По критерию максимума выгоднее играть по стратегии А3\n",
      "По критерию Гурвица с коэф. оптимизма = 0.4, \n",
      "выгоднее играть по стратегии А0\n",
      "По критерию Байеса с вероятностями [0.5 0.4 0.1] выгоднее играть \n",
      "по стратегии А0\n"
     ]
    }
   ],
   "source": [
    "matrix = np.array([[5, 5, 7], [3, 4, 6], [2, 4, 8]], dtype=float)\n",
    "opt = 0.4\n",
    "probs = np.array([0.5, 0.4, 0.1])\n",
    "print(f'По критерию Вальда выгоднее играть по стратегии А{maximin(matrix) + 1}')\n",
    "print(f'По критерию максимума выгоднее играть по стратегии А{maximax(matrix) + 1}')\n",
    "print(f'''По критерию Гурвица с коэф. оптимизма = {opt}, \n",
    "выгоднее играть по стратегии А{hurwitz(matrix, opt)}''')\n",
    "print(f'''По критерию Байеса с вероятностями {probs} выгоднее играть \n",
    "по стратегии А{baies(matrix, probs)}''')"
   ]
  },
  {
   "cell_type": "code",
   "execution_count": null,
   "metadata": {},
   "outputs": [],
   "source": []
  }
 ],
 "metadata": {
  "kernelspec": {
   "display_name": "Python 3",
   "language": "python",
   "name": "python3"
  },
  "language_info": {
   "codemirror_mode": {
    "name": "ipython",
    "version": 3
   },
   "file_extension": ".py",
   "mimetype": "text/x-python",
   "name": "python",
   "nbconvert_exporter": "python",
   "pygments_lexer": "ipython3",
   "version": "3.8.5"
  }
 },
 "nbformat": 4,
 "nbformat_minor": 4
}
