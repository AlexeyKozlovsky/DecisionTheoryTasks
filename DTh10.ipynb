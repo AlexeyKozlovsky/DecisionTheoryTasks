{
 "cells": [
  {
   "cell_type": "markdown",
   "id": "e0f69d01",
   "metadata": {},
   "source": [
    "## ТПР 10. Дискриминантная функция\n",
    "#### Козловский А.А., гр. 2253"
   ]
  },
  {
   "cell_type": "code",
   "execution_count": 1,
   "id": "297d4163",
   "metadata": {},
   "outputs": [],
   "source": [
    "import numpy as np\n",
    "import pandas as pd\n",
    "import matplotlib.pyplot as plt\n",
    "from matplotlib.colors import ListedColormap"
   ]
  },
  {
   "cell_type": "markdown",
   "id": "603ae5c2",
   "metadata": {},
   "source": [
    "#### Реализация необходимых функций"
   ]
  },
  {
   "cell_type": "code",
   "execution_count": 2,
   "id": "63b54153",
   "metadata": {},
   "outputs": [],
   "source": [
    "def make_data(avg, std, count, label):\n",
    "    \"\"\"Функция для генерации объектов одного класса\n",
    "    requirements: numpy\n",
    "    avg: мат.ожидание [tuple]\n",
    "    std: стандартное отклонение [tuple]\n",
    "    count: количество объектов [int]\n",
    "    label: название класса [str]\n",
    "    returns: ТОС [np.array]\"\"\"\n",
    "    features = np.concatenate((np.array([np.random.normal(avg[0], std[0], count)]).T,\n",
    "                               np.array([np.random.normal(avg[1], std[1], count)]).T),\n",
    "                              axis=1)\n",
    "    result = np.concatenate((features, \n",
    "                             np.array([[label for _ in features]], dtype=object).T), \n",
    "                            axis=1)    \n",
    "    return result"
   ]
  },
  {
   "cell_type": "code",
   "execution_count": 3,
   "id": "e6047d86",
   "metadata": {},
   "outputs": [],
   "source": [
    "def make_df(data, columns):\n",
    "    \"\"\"Функция для построение датафрейма по массиву\n",
    "    requirements: panas, numpy\n",
    "    data: массив с данными про объекты [numpy.array]\n",
    "    columns: названия столбцов в датафрейме [list/numpy.array]\n",
    "    returns: датафрейм [pandas.DataFrame]\"\"\"\n",
    "    new_data = np.concatenate((data, np.array([['' for _ in data]]).T), axis=1)\n",
    "    result = pd.DataFrame(columns=columns, data=new_data)\n",
    "    return result"
   ]
  },
  {
   "cell_type": "code",
   "execution_count": 103,
   "id": "15fc0831",
   "metadata": {},
   "outputs": [],
   "source": [
    "def cov(data):\n",
    "    \"\"\"Функция для построение матрицы ковариации\n",
    "    requirements: numpy\n",
    "    data_first: данный об объектах по двум свойствам [np.array]\n",
    "    returns: матрицу ковариации [np.array]\"\"\"\n",
    "    result = np.zeros((2, 2), dtype=float)\n",
    "    \n",
    "    means = np.array([data.T[0].mean(), data.T[1].mean()], dtype=float)\n",
    "    for ix, iy in np.ndindex(result.shape):\n",
    "        result[ix, iy] = (np.sum([(values[ix] - means[ix]) * (values[iy] - means[iy])\n",
    "                                  for values in data.T[:2].T])) / first.T[:2].shape[1]\n",
    "    return result"
   ]
  },
  {
   "cell_type": "markdown",
   "id": "7a4741df",
   "metadata": {},
   "source": [
    "#### Генерация данных и создание датафрейма и визуализация"
   ]
  },
  {
   "cell_type": "code",
   "execution_count": 102,
   "id": "d037fbf7",
   "metadata": {},
   "outputs": [],
   "source": [
    "first_settings = {\n",
    "    'avg': (10, 20),\n",
    "    'std': (10, 15),\n",
    "    'count': 50,\n",
    "    'label': 0\n",
    "}\n",
    "\n",
    "second_settings = {\n",
    "    'avg': (60, 80),\n",
    "    'std': (7, 10),\n",
    "    'count': 50,\n",
    "    'label': 1\n",
    "}\n",
    "\n",
    "first = make_data((10, 20), (10, 15), 50, 0)\n",
    "second = make_data((60, 80), (7, 10), 50, 1)\n",
    "data = np.concatenate((first, second))"
   ]
  },
  {
   "cell_type": "code",
   "execution_count": 5,
   "id": "84bbb437",
   "metadata": {},
   "outputs": [],
   "source": [
    "columns = ['first', 'second', 'actual', 'predicted']\n",
    "df = make_df(data, columns)"
   ]
  },
  {
   "cell_type": "code",
   "execution_count": 6,
   "id": "f9a86234",
   "metadata": {},
   "outputs": [
    {
     "data": {
      "image/png": "[encoded data removed]",
      "text/plain": [
       "<Figure size 432x288 with 1 Axes>"
      ]
     },
     "metadata": {
      "needs_background": "light"
     },
     "output_type": "display_data"
    }
   ],
   "source": [
    "cmap_light = ListedColormap(['red', 'green'])\n",
    "plt.scatter(data.T[0], data.T[1], c=data.T[2], cmap=cmap_light)\n",
    "plt.show()"
   ]
  },
  {
   "cell_type": "markdown",
   "id": "51754a9c",
   "metadata": {},
   "source": [
    "#### Нахождение дискриминантной функции"
   ]
  },
  {
   "cell_type": "code",
   "execution_count": 67,
   "id": "e236836e",
   "metadata": {},
   "outputs": [],
   "source": [
    "cov_matrix_1, cov_matrix_2 = cov(first), cov(second)\n",
    "\n",
    "first_count, second_count = first.shape[0], second.shape[0]\n",
    "res_cov_matrix = (first_count * cov_matrix_1 + \n",
    "                  second_count * cov_matrix_2) / (first_count + second_count)"
   ]
  },
  {
   "cell_type": "code",
   "execution_count": 73,
   "id": "3628932e",
   "metadata": {},
   "outputs": [],
   "source": [
    "inv_cov_mat = np.linalg.inv(res_cov_matrix)"
   ]
  },
  {
   "cell_type": "code",
   "execution_count": 85,
   "id": "48cf6422",
   "metadata": {},
   "outputs": [],
   "source": [
    "first_ax, first_ay = first.T[0].mean(), first.T[1].mean()\n",
    "second_ax, second_ay = second.T[0].mean(), second.T[1].mean()\n",
    "first_means = np.array([first_ax, first_ay])\n",
    "second_means = np.array([second_ax, second_ay])\n",
    "\n",
    "first_plus_second = first_means + second_means\n",
    "first_minus_second = first_means - second_means\n"
   ]
  },
  {
   "cell_type": "code",
   "execution_count": 93,
   "id": "3312abe7",
   "metadata": {},
   "outputs": [],
   "source": [
    "b = np.dot(first_minus_second, inv_cov_mat)\n",
    "p = -0.5 * np.dot(first_plus_second, b)"
   ]
  },
  {
   "cell_type": "code",
   "execution_count": 99,
   "id": "7baa468e",
   "metadata": {},
   "outputs": [],
   "source": [
    "d = lambda x: (b[0] * x + p) / -b[1]"
   ]
  },
  {
   "cell_type": "code",
   "execution_count": 101,
   "id": "f68b663b",
   "metadata": {},
   "outputs": [
    {
     "data": {
      "image/png": "[encoded data removed]",
      "text/plain": [
       "<Figure size 432x288 with 1 Axes>"
      ]
     },
     "metadata": {
      "needs_background": "light"
     },
     "output_type": "display_data"
    }
   ],
   "source": [
    "x = np.linspace(0, 100, 100)\n",
    "plt.scatter(data.T[0], data.T[1], c=data.T[2], cmap=cmap_light)\n",
    "plt.plot(x, d(x))\n",
    "plt.show()"
   ]
  },
  {
   "cell_type": "markdown",
   "id": "83bb897e",
   "metadata": {},
   "source": [
    "#### Подсчет ошибок"
   ]
  },
  {
   "cell_type": "code",
   "execution_count": 114,
   "id": "deefe19d",
   "metadata": {},
   "outputs": [
    {
     "name": "stdout",
     "output_type": "stream",
     "text": [
      "0.0\n"
     ]
    }
   ],
   "source": [
    "errors = 0\n",
    "for value in data:\n",
    "    if d(value[0]) <= value[1] and value[2] == 0:\n",
    "        errors += 1\n",
    "    elif d(value[0]) > value[1] and value[2] == 1:\n",
    "        errors += 1\n",
    "\n",
    "p_error = errors / data.shape[0]\n",
    "print(p_error)"
   ]
  }
 ],
 "metadata": {
  "kernelspec": {
   "display_name": "Python 3",
   "language": "python",
   "name": "python3"
  },
  "language_info": {
   "codemirror_mode": {
    "name": "ipython",
    "version": 3
   },
   "file_extension": ".py",
   "mimetype": "text/x-python",
   "name": "python",
   "nbconvert_exporter": "python",
   "pygments_lexer": "ipython3",
   "version": "3.8.5"
  }
 },
 "nbformat": 4,
 "nbformat_minor": 5
}
