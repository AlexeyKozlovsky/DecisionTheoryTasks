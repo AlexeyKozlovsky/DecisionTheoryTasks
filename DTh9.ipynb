{
 "cells": [
  {
   "cell_type": "markdown",
   "id": "5c5556e3",
   "metadata": {},
   "source": [
    "## KNN. ТПР 9\n",
    "#### Козловский А.А., гр. 2253"
   ]
  },
  {
   "cell_type": "code",
   "execution_count": 45,
   "id": "21770f89",
   "metadata": {},
   "outputs": [],
   "source": [
    "import numpy as np\n",
    "import pandas as pd\n",
    "import matplotlib.pyplot as plt\n",
    "from collections import Counter\n",
    "import copy"
   ]
  },
  {
   "cell_type": "markdown",
   "id": "9146964c",
   "metadata": {},
   "source": [
    "### Генерация данных"
   ]
  },
  {
   "cell_type": "code",
   "execution_count": 46,
   "id": "30656fea",
   "metadata": {},
   "outputs": [],
   "source": [
    "first_count, second_count = 100, 200\n",
    "first_mean, first_std = (10, 14), (3, 4)\n",
    "second_min, second_max = (30, 56), (46, 84)\n",
    "\n",
    "first = np.array([[np.random.normal(first_mean[0], \n",
    "                                    first_std[0], first_count)],\n",
    "                  [np.random.normal(first_mean[1], \n",
    "                                    first_std[1], first_count)]])\n",
    "\n",
    "second = np.array([[np.random.uniform(second_min[0], \n",
    "                                     second_max[0], second_count)], \n",
    "                   [np.random.uniform(second_min[1], \n",
    "                                     second_max[1], second_count)]])"
   ]
  },
  {
   "cell_type": "code",
   "execution_count": 47,
   "id": "8705b005",
   "metadata": {},
   "outputs": [],
   "source": [
    "def makedata(array, label):\n",
    "    \"\"\"Функция добавляющая метки к векторам\n",
    "    array: массив векторов объектов [np.array]\n",
    "    label: метка [object]\"\"\"\n",
    "    return np.array([array[0][0], array[1][0], np.array([label for i in range(array.shape[2])]), \n",
    "                       np.array(['' for i in range(array.shape[2])])], dtype=object).T"
   ]
  },
  {
   "cell_type": "code",
   "execution_count": 48,
   "id": "62eb97b8",
   "metadata": {},
   "outputs": [],
   "source": [
    "first_data = makedata(first, 'first')\n",
    "second_data = makedata(second, 'second')\n",
    "data = np.concatenate([first_data, second_data])\n",
    "\n",
    "df_generated = pd.DataFrame(columns=['x', 'y', 'actual', 'prediction'], data=data)"
   ]
  },
  {
   "cell_type": "code",
   "execution_count": 49,
   "id": "09761e3c",
   "metadata": {},
   "outputs": [],
   "source": [
    "df = pd.read_csv('CvsFiles/dataset.csv')\n",
    "data = df.to_numpy()\n",
    "data_first = df.loc[df['actual'] == 'first'].to_numpy()\n",
    "data_second = df.loc[df['actual'] == 'second'].to_numpy()"
   ]
  },
  {
   "cell_type": "code",
   "execution_count": 50,
   "id": "0d1b71da",
   "metadata": {
    "scrolled": false
   },
   "outputs": [
    {
     "data": {
      "image/png": "[encoded data removed]",
      "text/plain": [
       "<Figure size 432x288 with 1 Axes>"
      ]
     },
     "metadata": {
      "needs_background": "light"
     },
     "output_type": "display_data"
    }
   ],
   "source": [
    "plt.scatter(data_first.T[0], data_first.T[1], color='orange')\n",
    "plt.scatter(data_second.T[0], data_second.T[1])\n",
    "plt.scatter([43], [20], color='red')\n",
    "plt.show()"
   ]
  },
  {
   "cell_type": "code",
   "execution_count": 51,
   "id": "696997ed",
   "metadata": {},
   "outputs": [],
   "source": [
    "def distance(obj1, obj2):\n",
    "    return np.sqrt((obj1[0] - obj2[0]) ** 2 + (obj1[1] - obj2[1]) ** 2)"
   ]
  },
  {
   "cell_type": "code",
   "execution_count": 52,
   "id": "de5f74e2",
   "metadata": {},
   "outputs": [],
   "source": [
    "def knn_classify(obj, data, k=7):\n",
    "    distances_arg = np.argsort(np.array([distance(obj, d) for d in data]))\n",
    "    first_count, second_count = 0, 0\n",
    "    for arg in distances_arg[:k]:\n",
    "        if data[arg][2] == 'first':\n",
    "            first_count += 1\n",
    "        elif data[arg][2] == 'second':\n",
    "            second_count += 1\n",
    "            \n",
    "    return 'first' if first_count > second_count else 'second'"
   ]
  },
  {
   "cell_type": "code",
   "execution_count": 53,
   "id": "fa7712a4",
   "metadata": {},
   "outputs": [],
   "source": [
    "def error_count(data):\n",
    "    result = 0\n",
    "    for d in data:\n",
    "        if d[2] != d[3]:\n",
    "            result += 1\n",
    "            \n",
    "    return result"
   ]
  },
  {
   "cell_type": "code",
   "execution_count": 54,
   "id": "9d1a602b",
   "metadata": {},
   "outputs": [
    {
     "data": {
      "text/html": [
       "<div>\n",
       "<style scoped>\n",
       "    .dataframe tbody tr th:only-of-type {\n",
       "        vertical-align: middle;\n",
       "    }\n",
       "\n",
       "    .dataframe tbody tr th {\n",
       "        vertical-align: top;\n",
       "    }\n",
       "\n",
       "    .dataframe thead th {\n",
       "        text-align: right;\n",
       "    }\n",
       "</style>\n",
       "<table border=\"1\" class=\"dataframe\">\n",
       "  <thead>\n",
       "    <tr style=\"text-align: right;\">\n",
       "      <th></th>\n",
       "      <th>x</th>\n",
       "      <th>y</th>\n",
       "      <th>actual</th>\n",
       "      <th>prediction</th>\n",
       "    </tr>\n",
       "  </thead>\n",
       "  <tbody>\n",
       "    <tr>\n",
       "      <th>0</th>\n",
       "      <td>14.340018</td>\n",
       "      <td>19.253972</td>\n",
       "      <td>first</td>\n",
       "      <td>first</td>\n",
       "    </tr>\n",
       "    <tr>\n",
       "      <th>1</th>\n",
       "      <td>11.462756</td>\n",
       "      <td>15.619155</td>\n",
       "      <td>first</td>\n",
       "      <td>first</td>\n",
       "    </tr>\n",
       "    <tr>\n",
       "      <th>2</th>\n",
       "      <td>13.050433</td>\n",
       "      <td>15.362229</td>\n",
       "      <td>first</td>\n",
       "      <td>first</td>\n",
       "    </tr>\n",
       "    <tr>\n",
       "      <th>3</th>\n",
       "      <td>9.440171</td>\n",
       "      <td>8.995339</td>\n",
       "      <td>first</td>\n",
       "      <td>first</td>\n",
       "    </tr>\n",
       "    <tr>\n",
       "      <th>4</th>\n",
       "      <td>12.046722</td>\n",
       "      <td>16.401269</td>\n",
       "      <td>first</td>\n",
       "      <td>first</td>\n",
       "    </tr>\n",
       "    <tr>\n",
       "      <th>...</th>\n",
       "      <td>...</td>\n",
       "      <td>...</td>\n",
       "      <td>...</td>\n",
       "      <td>...</td>\n",
       "    </tr>\n",
       "    <tr>\n",
       "      <th>295</th>\n",
       "      <td>39.332921</td>\n",
       "      <td>72.590732</td>\n",
       "      <td>second</td>\n",
       "      <td>second</td>\n",
       "    </tr>\n",
       "    <tr>\n",
       "      <th>296</th>\n",
       "      <td>41.074694</td>\n",
       "      <td>74.531008</td>\n",
       "      <td>second</td>\n",
       "      <td>second</td>\n",
       "    </tr>\n",
       "    <tr>\n",
       "      <th>297</th>\n",
       "      <td>41.768551</td>\n",
       "      <td>81.418552</td>\n",
       "      <td>second</td>\n",
       "      <td>second</td>\n",
       "    </tr>\n",
       "    <tr>\n",
       "      <th>298</th>\n",
       "      <td>43.772946</td>\n",
       "      <td>58.511889</td>\n",
       "      <td>second</td>\n",
       "      <td>second</td>\n",
       "    </tr>\n",
       "    <tr>\n",
       "      <th>299</th>\n",
       "      <td>31.442841</td>\n",
       "      <td>59.283492</td>\n",
       "      <td>second</td>\n",
       "      <td>second</td>\n",
       "    </tr>\n",
       "  </tbody>\n",
       "</table>\n",
       "<p>300 rows × 4 columns</p>\n",
       "</div>"
      ],
      "text/plain": [
       "             x          y  actual prediction\n",
       "0    14.340018  19.253972   first      first\n",
       "1    11.462756  15.619155   first      first\n",
       "2    13.050433  15.362229   first      first\n",
       "3     9.440171   8.995339   first      first\n",
       "4    12.046722  16.401269   first      first\n",
       "..         ...        ...     ...        ...\n",
       "295  39.332921  72.590732  second     second\n",
       "296  41.074694  74.531008  second     second\n",
       "297  41.768551  81.418552  second     second\n",
       "298  43.772946  58.511889  second     second\n",
       "299  31.442841  59.283492  second     second\n",
       "\n",
       "[300 rows x 4 columns]"
      ]
     },
     "execution_count": 54,
     "metadata": {},
     "output_type": "execute_result"
    }
   ],
   "source": [
    "data_pred = data.copy()\n",
    "for d in data_pred:\n",
    "    d[3] = knn_classify(d, data_pred)\n",
    "    \n",
    "df_pred = pd.DataFrame(columns=df.columns, data=data_pred)\n",
    "df_pred"
   ]
  },
  {
   "cell_type": "code",
   "execution_count": 55,
   "id": "902a4b5d",
   "metadata": {},
   "outputs": [
    {
     "data": {
      "text/plain": [
       "0"
      ]
     },
     "execution_count": 55,
     "metadata": {},
     "output_type": "execute_result"
    }
   ],
   "source": [
    "error_count(data_pred)"
   ]
  },
  {
   "cell_type": "code",
   "execution_count": 56,
   "id": "c94a405a",
   "metadata": {},
   "outputs": [
    {
     "data": {
      "text/plain": [
       "'first'"
      ]
     },
     "execution_count": 56,
     "metadata": {},
     "output_type": "execute_result"
    }
   ],
   "source": [
    "knn_classify([43, 20], data)"
   ]
  },
  {
   "cell_type": "code",
   "execution_count": null,
   "id": "ba22aca5",
   "metadata": {},
   "outputs": [],
   "source": []
  }
 ],
 "metadata": {
  "kernelspec": {
   "display_name": "Python 3",
   "language": "python",
   "name": "python3"
  },
  "language_info": {
   "codemirror_mode": {
    "name": "ipython",
    "version": 3
   },
   "file_extension": ".py",
   "mimetype": "text/x-python",
   "name": "python",
   "nbconvert_exporter": "python",
   "pygments_lexer": "ipython3",
   "version": "3.8.5"
  }
 },
 "nbformat": 4,
 "nbformat_minor": 5
}
