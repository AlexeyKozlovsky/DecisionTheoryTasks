{
 "cells": [
  {
   "cell_type": "markdown",
   "id": "29cda79e",
   "metadata": {},
   "source": [
    "## ТПР. Задание 6.\n",
    "#### Козловский А.А., гр. 2253"
   ]
  },
  {
   "cell_type": "code",
   "execution_count": 43,
   "id": "913db879",
   "metadata": {},
   "outputs": [],
   "source": [
    "import numpy as np\n",
    "import pandas as pd\n",
    "import matplotlib.pyplot as plt\n",
    "import seaborn as sns"
   ]
  },
  {
   "cell_type": "markdown",
   "id": "5ca5376a",
   "metadata": {},
   "source": [
    "### Равномерное распределение"
   ]
  },
  {
   "cell_type": "code",
   "execution_count": 38,
   "id": "952dcb4e",
   "metadata": {},
   "outputs": [],
   "source": [
    "uni_params = {\n",
    "    'low': 0,\n",
    "    'high': 1000,\n",
    "    'size': 1000\n",
    "}\n",
    "\n",
    "uniform = np.random.uniform(**uni_params)"
   ]
  },
  {
   "cell_type": "code",
   "execution_count": 41,
   "id": "9a9f84a0",
   "metadata": {},
   "outputs": [],
   "source": [
    "uni_params['mean'] = (uni_params['high'] - uni_params['low']) / 2\n",
    "uni_params['std'] = (uni_params['high'] - uni_params['low']) / np.sqrt(12)\n",
    "\n",
    "uni_params['actual_mean'] = uniform.mean()\n",
    "uni_params['actual_std'] = uniform.std()"
   ]
  },
  {
   "cell_type": "code",
   "execution_count": 42,
   "id": "7bb7efcc",
   "metadata": {},
   "outputs": [
    {
     "data": {
      "text/plain": [
       "{'low': 0,\n",
       " 'high': 1000,\n",
       " 'size': 1000,\n",
       " 'mean': 500.0,\n",
       " 'std': 288.6751345948129,\n",
       " 'actual_mean': 505.27257684618337,\n",
       " 'actual_std': 285.01511013148456}"
      ]
     },
     "execution_count": 42,
     "metadata": {},
     "output_type": "execute_result"
    }
   ],
   "source": [
    "uni_params"
   ]
  },
  {
   "cell_type": "code",
   "execution_count": 58,
   "id": "cdf64fe6",
   "metadata": {},
   "outputs": [
    {
     "data": {
      "image/png": "[encoded data removed]",
      "text/plain": [
       "<Figure size 432x288 with 1 Axes>"
      ]
     },
     "metadata": {
      "needs_background": "light"
     },
     "output_type": "display_data"
    }
   ],
   "source": [
    "plt.hist(uniform, 20, )\n",
    "plt.show()"
   ]
  },
  {
   "cell_type": "code",
   "execution_count": 65,
   "id": "e7cb5786",
   "metadata": {},
   "outputs": [
    {
     "data": {
      "image/png": "[encoded data removed]",
      "text/plain": [
       "<Figure size 360x360 with 1 Axes>"
      ]
     },
     "metadata": {
      "needs_background": "light"
     },
     "output_type": "display_data"
    }
   ],
   "source": [
    "sns.displot(uniform, kde=False)\n",
    "plt.show()"
   ]
  },
  {
   "cell_type": "markdown",
   "id": "a4075558",
   "metadata": {},
   "source": [
    "### Нормальное распределение"
   ]
  },
  {
   "cell_type": "code",
   "execution_count": 67,
   "id": "a4d643e7",
   "metadata": {},
   "outputs": [],
   "source": [
    "mu, sigma, quantity = 0, 4, 10000\n",
    "normal = np.random.normal(mu, sigma, quantity)"
   ]
  },
  {
   "cell_type": "code",
   "execution_count": 66,
   "id": "e5307fb4",
   "metadata": {},
   "outputs": [],
   "source": [
    "y = np.random.normal?"
   ]
  },
  {
   "cell_type": "code",
   "execution_count": null,
   "id": "959bd77d",
   "metadata": {},
   "outputs": [],
   "source": [
    "y = np.random.normal"
   ]
  },
  {
   "cell_type": "code",
   "execution_count": 17,
   "id": "a23ff8ff",
   "metadata": {},
   "outputs": [],
   "source": [
    "y = np.random.poisson(5, 1000)"
   ]
  },
  {
   "cell_type": "code",
   "execution_count": 18,
   "id": "edbf8da1",
   "metadata": {},
   "outputs": [
    {
     "data": {
      "text/plain": [
       "(array([  8.,   0.,   0.,  30.,   0.,   0.,   0.,  85.,   0.,   0.,   0.,\n",
       "        145.,   0.,   0.,   0., 155.,   0.,   0.,   0., 189.,   0.,   0.,\n",
       "          0., 138.,   0.,   0., 107.,   0.,   0.,   0.,  64.,   0.,   0.,\n",
       "          0.,  35.,   0.,   0.,   0.,  23.,   0.,   0.,   0.,  16.,   0.,\n",
       "          0.,   0.,   4.,   0.,   0.,   1.]),\n",
       " array([ 0.  ,  0.26,  0.52,  0.78,  1.04,  1.3 ,  1.56,  1.82,  2.08,\n",
       "         2.34,  2.6 ,  2.86,  3.12,  3.38,  3.64,  3.9 ,  4.16,  4.42,\n",
       "         4.68,  4.94,  5.2 ,  5.46,  5.72,  5.98,  6.24,  6.5 ,  6.76,\n",
       "         7.02,  7.28,  7.54,  7.8 ,  8.06,  8.32,  8.58,  8.84,  9.1 ,\n",
       "         9.36,  9.62,  9.88, 10.14, 10.4 , 10.66, 10.92, 11.18, 11.44,\n",
       "        11.7 , 11.96, 12.22, 12.48, 12.74, 13.  ]),\n",
       " <BarContainer object of 50 artists>)"
      ]
     },
     "execution_count": 18,
     "metadata": {},
     "output_type": "execute_result"
    },
    {
     "data": {
      "image/png": "[encoded data removed]",
      "text/plain": [
       "<Figure size 432x288 with 1 Axes>"
      ]
     },
     "metadata": {
      "needs_background": "light"
     },
     "output_type": "display_data"
    }
   ],
   "source": [
    "plt.hist(y, 50)"
   ]
  },
  {
   "cell_type": "code",
   "execution_count": 21,
   "id": "4957ea74",
   "metadata": {},
   "outputs": [
    {
     "data": {
      "text/plain": [
       "5.287958999999999"
      ]
     },
     "execution_count": 21,
     "metadata": {},
     "output_type": "execute_result"
    }
   ],
   "source": []
  },
  {
   "cell_type": "code",
   "execution_count": null,
   "id": "c6e8ff3b",
   "metadata": {},
   "outputs": [],
   "source": []
  }
 ],
 "metadata": {
  "kernelspec": {
   "display_name": "Python 3",
   "language": "python",
   "name": "python3"
  },
  "language_info": {
   "codemirror_mode": {
    "name": "ipython",
    "version": 3
   },
   "file_extension": ".py",
   "mimetype": "text/x-python",
   "name": "python",
   "nbconvert_exporter": "python",
   "pygments_lexer": "ipython3",
   "version": "3.8.5"
  }
 },
 "nbformat": 4,
 "nbformat_minor": 5
}
